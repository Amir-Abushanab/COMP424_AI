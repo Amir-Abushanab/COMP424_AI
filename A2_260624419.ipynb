{
 "cells": [
  {
   "cell_type": "markdown",
   "metadata": {},
   "source": [
    "# COMP 424 Assignment 2"
   ]
  },
  {
   "cell_type": "markdown",
   "metadata": {},
   "source": [
    "## Amir Abushanab - _260624419_"
   ]
  },
  {
   "cell_type": "markdown",
   "metadata": {},
   "source": [
    "### Q1.1:"
   ]
  },
  {
   "cell_type": "markdown",
   "metadata": {},
   "source": [
    "There are $2^{25} - 1$ belief states, since we are excluding the position where we are at G (so 26-1 positions to be in) and the state we are currently in."
   ]
  },
  {
   "cell_type": "markdown",
   "metadata": {},
   "source": [
    "### Q1.2:"
   ]
  },
  {
   "cell_type": "markdown",
   "metadata": {},
   "source": [
    "There are 7 distinct precepts:\n",
    "- Walls on North/East/West --> [(2,4), (4,5), (6,4), (8,5), (10,4)]\n",
    "- Walls on North/East/South --> [(11,3)]\n",
    "- Walls on North/South/West --> [(1,3)]\n",
    "- Walls on East/South/West --> [(2,2), (4,1), (6,1), (8,1), (10,2)]\n",
    "- Walls on North/South --> [(3,3), (5,3), (7,3), (9,3)]\n",
    "- Walls on East/West --> [((4,2), (4,4), (6,2), (8,2), (8,4)]\n",
    "- No walls --> [(2,3), (4,3) , (6,3), (8,3), (10,3)]"
   ]
  },
  {
   "cell_type": "markdown",
   "metadata": {},
   "source": [
    "### Q1.3:"
   ]
  },
  {
   "cell_type": "markdown",
   "metadata": {},
   "source": [
    "The unique landmarks are the walls with North/East/South, North/South/West, and Grasshopper (if we are counting GrassHopper as a precept) - which have a 100% probability of being (11,3), (1,3), and (6,1) respectively."
   ]
  },
  {
   "cell_type": "markdown",
   "metadata": {},
   "source": [
    "### Q1.4:"
   ]
  },
  {
   "cell_type": "markdown",
   "metadata": {},
   "source": [
    "There are a number of conformant plans that are guranteed to save Grasshopper in time (shortest being 50 min) and one of them is: $ \\Longrightarrow N (\\Longrightarrow E)^3 \\Longrightarrow N \\Longrightarrow E \\Longrightarrow S \\Longrightarrow E ( \\Longrightarrow S)^2$"
   ]
  },
  {
   "cell_type": "markdown",
   "metadata": {},
   "source": [
    "### Q2.1:"
   ]
  },
  {
   "cell_type": "markdown",
   "metadata": {},
   "source": [
    "![title](RB-States.png)"
   ]
  },
  {
   "cell_type": "markdown",
   "metadata": {},
   "source": [
    "### Q2.2:"
   ]
  },
  {
   "cell_type": "markdown",
   "metadata": {},
   "source": [
    "![title](officialMinMax.png)"
   ]
  },
  {
   "cell_type": "markdown",
   "metadata": {},
   "source": [
    "The above is an execution of classic MinMax, going from left to right. Note that the path is chosen arbitrarly."
   ]
  },
  {
   "cell_type": "markdown",
   "metadata": {},
   "source": [
    "### Q2.3.a:"
   ]
  },
  {
   "cell_type": "markdown",
   "metadata": {},
   "source": [
    "![title](alphabeta1.png)"
   ]
  },
  {
   "cell_type": "markdown",
   "metadata": {},
   "source": [
    "The above is an execution of alpha-beta pruning, starting from the middle as specified, then going left to right. Once again the path to a winning state is arbitrarly chosen."
   ]
  },
  {
   "cell_type": "markdown",
   "metadata": {},
   "source": [
    "### Q2.3.b:"
   ]
  },
  {
   "cell_type": "markdown",
   "metadata": {},
   "source": [
    "We were saved the trouble of going to 5 nodes in this case, but in the best case scenario for the middle being chosen first is that we can actually save up to 11 nodes - when we go down the shorter (i.e the worst/min) paths first."
   ]
  },
  {
   "cell_type": "markdown",
   "metadata": {},
   "source": [
    "### Q2.3.c:"
   ]
  },
  {
   "cell_type": "markdown",
   "metadata": {},
   "source": [
    "The absolute best case scenario is taking the path on the rightmost first (which is the best path that is a guaranteed victory), then just taking the shortest path. This way we save going to 15 nodes."
   ]
  },
  {
   "cell_type": "markdown",
   "metadata": {},
   "source": [
    "### Q3.1-a:"
   ]
  },
  {
   "cell_type": "markdown",
   "metadata": {},
   "source": [
    "$2^2 - 1 = 3$ models (since there are $2^n$ possible states and the only one that is false is when A and B are both false)"
   ]
  },
  {
   "cell_type": "markdown",
   "metadata": {},
   "source": [
    "### Q3.1-b:"
   ]
  },
  {
   "cell_type": "markdown",
   "metadata": {},
   "source": [
    "$2^5 - 1 = 31$ models"
   ]
  },
  {
   "cell_type": "markdown",
   "metadata": {},
   "source": [
    "### Q3.1-c:"
   ]
  },
  {
   "cell_type": "markdown",
   "metadata": {},
   "source": [
    "$2^3 - 3 = 5$ models"
   ]
  },
  {
   "cell_type": "markdown",
   "metadata": {},
   "source": [
    "### Q3.1-d:"
   ]
  },
  {
   "cell_type": "markdown",
   "metadata": {},
   "source": [
    "$0$ models"
   ]
  },
  {
   "cell_type": "markdown",
   "metadata": {},
   "source": [
    "### Q3.1-e:"
   ]
  },
  {
   "cell_type": "markdown",
   "metadata": {},
   "source": [
    "$2^6 = 64$ models (tautology)"
   ]
  },
  {
   "cell_type": "markdown",
   "metadata": {},
   "source": [
    "### Q3.2-a:"
   ]
  },
  {
   "cell_type": "markdown",
   "metadata": {},
   "source": [
    "Valid\n",
    "\n",
    "$A \\lor \\neg A$ \n",
    "\n",
    "$True$"
   ]
  },
  {
   "cell_type": "markdown",
   "metadata": {},
   "source": [
    "### Q3.2-b:"
   ]
  },
  {
   "cell_type": "markdown",
   "metadata": {},
   "source": [
    "Satisfiable\n",
    "\n",
    "$(A \\land \\neg A) \\lor B$\n",
    "\n",
    "$False \\land B$\n",
    "\n",
    "$ B$"
   ]
  },
  {
   "cell_type": "markdown",
   "metadata": {},
   "source": [
    "### Q3.2-c:"
   ]
  },
  {
   "cell_type": "markdown",
   "metadata": {},
   "source": [
    "Valid\n",
    "\n",
    "$(((A \\Rightarrow B) \\land A) \\Rightarrow B) \\Longleftrightarrow (B \\lor \\neg B)$\n",
    "\n",
    "$((\\neg A \\lor B) \\land A) \\Rightarrow B) \\Longleftrightarrow True$\n",
    "\n",
    "$(((\\neg A \\land A) \\lor B \\land A) \\Rightarrow B) \\Longleftrightarrow True$\n",
    "\n",
    "$((\\neg(B \\land A) \\lor B) \\Longleftrightarrow True$\n",
    "\n",
    "$\\neg B \\lor \\neg A \\lor B  \\Longleftrightarrow True$\n",
    "\n",
    "$True \\lor \\neg A  \\Longleftrightarrow True $\n",
    "\n",
    "$True$\n"
   ]
  },
  {
   "cell_type": "markdown",
   "metadata": {},
   "source": [
    "### Q3.2-d:"
   ]
  },
  {
   "cell_type": "markdown",
   "metadata": {},
   "source": [
    "Valid\n",
    "\n",
    "$False \\Rightarrow A \\lor B \\lor C \\lor D \\lor \\neg A $\n",
    "\n",
    "$False \\Rightarrow B \\lor C \\lor D \\lor A \\lor \\neg A $\n",
    "\n",
    "$False \\Rightarrow B \\lor C \\lor D \\lor True$\n",
    "\n",
    "$False \\Rightarrow True$\n",
    "\n",
    "$True$"
   ]
  },
  {
   "cell_type": "markdown",
   "metadata": {},
   "source": [
    "### Q3.2-e:"
   ]
  },
  {
   "cell_type": "markdown",
   "metadata": {},
   "source": [
    "Unsatisfiable\n",
    "\n",
    "$True \\Rightarrow ((A \\lor B) \\land \\neg A \\land \\neg B$\n",
    "\n",
    "$True \\Rightarrow (((A \\land \\neg A) \\lor (B \\land \\neg A)) \\land \\neg B$\n",
    "\n",
    "$True \\Rightarrow (B \\land \\neg A) \\land \\neg B$\n",
    "\n",
    "$True \\Rightarrow (False \\land \\neg A)$\n",
    "\n",
    "$True \\Rightarrow False$\n",
    "\n",
    "$False$\n"
   ]
  },
  {
   "cell_type": "markdown",
   "metadata": {},
   "source": [
    "### Q4.1:"
   ]
  },
  {
   "cell_type": "markdown",
   "metadata": {},
   "source": [
    "Constant: $X =\\{Dustey, Elody, Michael\\}$,   $Y = \\{Eggo, Chocolate Pudding, 3-Musketeers\\} $\n",
    "\n",
    "Variables: Person $x$, Snack $y$\n",
    "\n",
    "$\\forall x\\in X$  $\\exists y \\in Y$   $Bought(x, y)$\n",
    "\n",
    "$\\forall x\\in X$  $Bought(x, Chocolate Pudding) \\Rightarrow \\neg Bought(x, Eggo)$\n",
    "\n",
    "$\\forall x\\in X$  $Bought(x, 3-Musketeers) \\Rightarrow Bought(x, Chocolate Pudding)$\n",
    "\n",
    "$\\forall y \\in Y$  $Bought(Elody, y) \\Longleftrightarrow  \\neg Bought(Michael, y) $\n",
    "\n",
    "$Bought(Michael, 3-Musketeers) \\wedge Bought(Dustey, 3-Musketeers)$"
   ]
  },
  {
   "cell_type": "markdown",
   "metadata": {},
   "source": [
    "### Q4.2:"
   ]
  },
  {
   "cell_type": "markdown",
   "metadata": {},
   "source": [
    "In CNF form:\n",
    "\n",
    "1. $Bought(x, S)$\n",
    "\n",
    "2. $\\neg Bought(x, ChocolatePudding) \\lor \\neg Bought(x, Eggo)$\n",
    "\n",
    "3. $\\neg Bought(x, 3-Musketeers) \\lor Bought(x, Chocolate Pudding)$\n",
    "\n",
    "4. $Bought(Elody, y) \\lor Bought(Michael, y)$ \n",
    "\n",
    "5. $\\neg Bought(Elody, y) \\lor \\neg Bought(Michael, y)$\n",
    "\n",
    "6. $Bought(Michael, 3-Musketeers)$\n",
    "\n",
    "7. $Bought(Dustey, 3-Musketeers)$"
   ]
  },
  {
   "cell_type": "markdown",
   "metadata": {},
   "source": [
    "### Q4.3:"
   ]
  },
  {
   "cell_type": "markdown",
   "metadata": {
    "collapsed": true
   },
   "source": [
    "Query: $\\alpha = Bought(x, Eggo) \\land \\neg Bought(x, Chocolate Pudding) \\land \\neg Bought(x, 3-Musketeers)$\n",
    "\n",
    "$\\neg \\alpha = \\neg Bought(x, Eggo) \\lor Bought(x, Chocholate Pudding \\lor Bought(x, 3-Musketeers)$\n",
    "\n",
    "i- Use 6 and 3 $\\sigma = \\{x/Michael\\}$  :  $Bought(Michael, Chocolate Pudding)$\n",
    "\n",
    "ii- Use i and 2 $\\sigma = \\{x/Michael\\}$  :  $\\neg Bought(Michael, Eggo)$\n",
    "\n",
    "iii- Use 4 and ii $\\sigma = \\{y/Eggo\\}$  :  $ Bought(Elody, Eggo)$\n",
    "\n",
    "iv- Use iii and 2 $\\sigma = \\{y/Eggo\\}$  :  $\\neg Bought(Elody, Chocolate Pudding)$\n",
    "\n",
    "v- Use iv and 3 $\\sigma = \\{x/Elody\\}$  :  $\\neg Bought(Elody, 3-Musketeers)$\n",
    "\n",
    "$KB \\land \\neg \\alpha = (Bought(Elody, Eggo) \\land \\neg Bought(Elody, Chocolate Pudding) \\land \\neg Bought(Elody, 3-Musketeers)) \\land (\\neg Bought(Elody, Eggo) \\lor Bought(Elody, Chocholate Pudding \\lor Bought(Elody, 3-Musketeers))$ \n",
    "\n",
    "The statement is unsatisfiable therefore the Query is True."
   ]
  }
 ],
 "metadata": {
  "kernelspec": {
   "display_name": "Python 3",
   "language": "python",
   "name": "python3"
  },
  "language_info": {
   "codemirror_mode": {
    "name": "ipython",
    "version": 3
   },
   "file_extension": ".py",
   "mimetype": "text/x-python",
   "name": "python",
   "nbconvert_exporter": "python",
   "pygments_lexer": "ipython3",
   "version": "3.6.2"
  }
 },
 "nbformat": 4,
 "nbformat_minor": 2
}
